{
 "cells": [
  {
   "cell_type": "code",
   "execution_count": 174,
   "metadata": {},
   "outputs": [],
   "source": [
    "import numpy as np\n",
    "import random\n",
    "#[cases, hospitalization, death]\n",
    "infection = [[1,1,1],#white\n",
    "            [1.7,3.7,2.4],#American native\n",
    "            [0.7,1,1],#Asian\n",
    "            [1.1,2.9,1.9],#black\n",
    "            [1.3,3.1,2.3]]#hispanic & latino\n",
    "            \n",
    "prob = 1/np.array(infection).T[0]\n",
    "prob = 0.1*prob\n",
    "\n",
    "#race ratio from https://www.visualcapitalist.com/visualizing-u-s-population-by-race/\n",
    "#white, American native, asian, balck, hispanic & latino\n",
    "rr = np.array([0.601, 0, 0.056, 0.122, 0.185])\n",
    "rr[1] = 1-rr.sum()\n",
    "#print(rr)\n",
    "\n",
    "# 0-17, 18-44, 45-64, 65-74, 75+\n",
    "dr = np.array([0.06, 3.9, 22.4, 24.9, 48.7])*0.01\n",
    "#death rate from https://www.worldometers.info/coronavirus/coronavirus-age-sex-demographics/\n",
    "#print(dr)\n",
    "class person:\n",
    "    def __init__(self, age, race, covid, antibody):\n",
    "        self.age = age\n",
    "        self.race = race\n",
    "        self.covid = covid\n",
    "        self.days_infected = 0\n",
    "        self.antibody = antibody\n",
    "    def get_death_rate(self):\n",
    "        if self.age <= 17:\n",
    "            return dr[0]\n",
    "        elif self.age <= 44:\n",
    "            return dr[1]\n",
    "        elif self.age <= 64:\n",
    "            return dr[2]\n",
    "        elif self.age <= 74:\n",
    "            return dr[3]\n",
    "        else: return dr[4]\n",
    "        \n",
    "pool = []  \n",
    "population_age_curve = []\n",
    "for i in range(0,100):\n",
    "    if i<40:\n",
    "        population_age_curve.append(100-i/2)\n",
    "    else:\n",
    "        population_age_curve.append(80-8*(i-40)/6)\n",
    "population_age_curve = np.array(population_age_curve)/sum(population_age_curve)\n",
    "sampleList = np.arange(0,100,1)\n",
    "\n",
    "\n",
    "for i in range(0,5):\n",
    "    #print(i)\n",
    "    for j in range(0, int(1000*rr[i])):\n",
    "        pool.append(person(random.choices(sampleList, weights=population_age_curve)[0], i,random.choices([True, False], weights = [0.1*infection[i][0], 1-0.1*infection[i][0]]), False))\n",
    "#len(pool)\n",
    "#pool[601].covid"
   ]
  },
  {
   "cell_type": "code",
   "execution_count": 175,
   "metadata": {},
   "outputs": [
    {
     "data": {
      "text/plain": [
       "12.037800000000002"
      ]
     },
     "execution_count": 175,
     "metadata": {},
     "output_type": "execute_result"
    }
   ],
   "source": [
    "def simulation(days, inffection_rate, pool):\n",
    "    for i in range(days):\n",
    "\n",
    "        for person in pool:\n",
    "            if person.covid == [True]:\n",
    "                for j in pool:\n",
    "                    if j.race == person.race:\n",
    "                        if j.covid == [False] and j.antibody == False:\n",
    "                            j.covid = random.choices([False,True], weights = [1-inffection_rate, inffection_rate])\n",
    "                    else:\n",
    "                        if j.covid == [False] and j.antibody == False:\n",
    "                            j.covid = random.choices([False,True], weights = [1-inffection_rate/2, inffection_rate/2])\n",
    "\n",
    "def get_badness_score(pool):\n",
    "    count = 0\n",
    "    for person in pool:\n",
    "        if person.covid == [True]:\n",
    "            count = count + person.get_death_rate()\n",
    "    return count\n",
    "\n",
    "def duplicate(pool):\n",
    "    dup = []\n",
    "    for i in pool:\n",
    "        dup.append(person(i.age, i.race, i.covid, i.antibody))\n",
    "        \n",
    "    return dup\n",
    "\n",
    "def get_candidate(num, pool):\n",
    "    cands = []\n",
    "    while len(cands) < 5:\n",
    "        cand = random.choices(pool)\n",
    "        for i in cands:\n",
    "            if cand == i:\n",
    "                continue\n",
    "        cands.append(cand[0])\n",
    "    return cands\n",
    "\n",
    "def display(candidates):\n",
    "    races = [\"White\", \"American Native\", \"Aisan\", \"Black\", \"hispanic & latino\"]\n",
    "    for i in range(len(candidates)):\n",
    "        print(\"the number\",i+1, \"candidate's info:\")\n",
    "        print(\"age: \", candidates[i].age)\n",
    "        print(\"race: \", races[candidates[i].race])\n",
    "        print(\"covid: \", candidates[i].covid)\n",
    "        print(\"antibody: \", candidates[i].antibody, \"\\n\")\n",
    "\n",
    "def AI_choose(days, transmission_efficiency, candidates):\n",
    "    duplicate_pools = []\n",
    "    for i in range(len(candidates)):\n",
    "        temp1 = candidates[i].antibody\n",
    "        candidates[i].antibody = True\n",
    "        temp2 = candidates[i].covid\n",
    "        candidates[i].covid = [False]\n",
    "        duplicate_pools.append(duplicate(pool))\n",
    "        candidates[i].antibody = temp1\n",
    "        candidates[i].covid = temp2\n",
    "    low = 1000\n",
    "    index = 0\n",
    "    for i in range(len(duplicate_pools)):\n",
    "        simulation(days, transmission_efficiency, duplicate_pools[i])\n",
    "        s = get_badness_score(duplicate_pools[i])\n",
    "        if s < low:\n",
    "            low = s\n",
    "            index = i\n",
    "        print(\"candidate\", i+1, \"'s simulated badness score is:\", s)\n",
    "    print(\"AI's choose:\")\n",
    "    races = [\"White\", \"American Native\", \"Aisan\", \"Black\", \"hispanic & latino\"]\n",
    "    \n",
    "    print(\"the number\",index+1, \"candidate's info:\")\n",
    "    print(\"age: \", candidates[index].age)\n",
    "    print(\"race: \", races[candidates[index].race])\n",
    "    print(\"covid: \", candidates[index].covid)\n",
    "    print(\"antibody: \", candidates[index].antibody, \"\\n\")\n",
    "    return candidates[index]\n",
    "    \n",
    "\n",
    "get_badness_score(pool)\n"
   ]
  },
  {
   "cell_type": "code",
   "execution_count": 176,
   "metadata": {},
   "outputs": [
    {
     "name": "stdout",
     "output_type": "stream",
     "text": [
      "the number 1 candidate's info:\n",
      "age:  52\n",
      "race:  Black\n",
      "covid:  [False]\n",
      "antibody:  False \n",
      "\n",
      "the number 2 candidate's info:\n",
      "age:  51\n",
      "race:  White\n",
      "covid:  [False]\n",
      "antibody:  False \n",
      "\n",
      "the number 3 candidate's info:\n",
      "age:  65\n",
      "race:  White\n",
      "covid:  [False]\n",
      "antibody:  False \n",
      "\n",
      "the number 4 candidate's info:\n",
      "age:  15\n",
      "race:  White\n",
      "covid:  [False]\n",
      "antibody:  False \n",
      "\n",
      "the number 5 candidate's info:\n",
      "age:  46\n",
      "race:  White\n",
      "covid:  [False]\n",
      "antibody:  False \n",
      "\n"
     ]
    }
   ],
   "source": [
    "candidates = get_candidate(5, pool)\n",
    "display(candidates)"
   ]
  },
  {
   "cell_type": "code",
   "execution_count": 177,
   "metadata": {},
   "outputs": [
    {
     "name": "stdout",
     "output_type": "stream",
     "text": [
      "candidate 1 's simulated badness score is: 20.410200000000003\n",
      "candidate 2 's simulated badness score is: 22.410799999999995\n",
      "candidate 3 's simulated badness score is: 18.8566\n",
      "candidate 4 's simulated badness score is: 21.194\n",
      "candidate 5 's simulated badness score is: 21.008800000000004\n",
      "AI's choose:\n",
      "the number 3 candidate's info:\n",
      "age:  65\n",
      "race:  White\n",
      "covid:  [False]\n",
      "antibody:  False \n",
      "\n"
     ]
    },
    {
     "data": {
      "text/plain": [
       "<__main__.person at 0x7f8fb65c9a60>"
      ]
     },
     "execution_count": 177,
     "metadata": {},
     "output_type": "execute_result"
    }
   ],
   "source": [
    "AI_choose(10, 0.0001, candidates)"
   ]
  }
 ],
 "metadata": {
  "kernelspec": {
   "display_name": "Python 3",
   "language": "python",
   "name": "python3"
  },
  "language_info": {
   "codemirror_mode": {
    "name": "ipython",
    "version": 3
   },
   "file_extension": ".py",
   "mimetype": "text/x-python",
   "name": "python",
   "nbconvert_exporter": "python",
   "pygments_lexer": "ipython3",
   "version": "3.8.3"
  }
 },
 "nbformat": 4,
 "nbformat_minor": 4
}
